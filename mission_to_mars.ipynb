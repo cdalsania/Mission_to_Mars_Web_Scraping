{
 "cells": [
  {
   "cell_type": "markdown",
   "metadata": {},
   "source": [
    "# Import Dependencies"
   ]
  },
  {
   "cell_type": "code",
   "execution_count": 1,
   "metadata": {},
   "outputs": [],
   "source": [
    "from bs4 import BeautifulSoup\n",
    "from splinter import Browser\n",
    "import pandas as pd\n",
    "import time"
   ]
  },
  {
   "cell_type": "markdown",
   "metadata": {},
   "source": [
    "# Splinter Browser"
   ]
  },
  {
   "cell_type": "code",
   "execution_count": 2,
   "metadata": {},
   "outputs": [],
   "source": [
    "# executable_path = { 'executable_path': '/usr/local/bin/chromedriver' }\n",
    "\n",
    "# WINDOWS\n",
    "executable_path = {'executable_path': 'chromedriver.exe'}\n",
    "browser = Browser('chrome', **executable_path, headless=False)"
   ]
  },
  {
   "cell_type": "markdown",
   "metadata": {},
   "source": [
    "# NASA Mars News"
   ]
  },
  {
   "cell_type": "code",
   "execution_count": 5,
   "metadata": {},
   "outputs": [
    {
     "name": "stdout",
     "output_type": "stream",
     "text": [
      "A Martian Roundtrip: NASA's Perseverance Rover Sample Tubes\n",
      "Marvels of engineering, the rover's sample tubes must be tough enough to safely bring Red Planet samples on the long journey back to Earth in immaculate condition. \n"
     ]
    }
   ],
   "source": [
    "# URL of page to be scraped\n",
    "url = 'https://mars.nasa.gov/news/?page=0&per_page=40&order=publish_date+desc%2Ccreated_at+desc&search=&category=19%2C165%2C184%2C204&blank_scope=Latest'\n",
    "\n",
    "# Open webpage\n",
    "browser.visit(url)\n",
    "\n",
    "# Wait 3 seconds for the page to load before scraping\n",
    "time.sleep(3)\n",
    "\n",
    "# Retrieve HTML webpage source\n",
    "html = browser.html\n",
    "\n",
    "# Parse HTML webpage source using BeautifulSoup\n",
    "soup = BeautifulSoup(html, 'html.parser')\n",
    "\n",
    "# Scrape the latest news title and paragraph\n",
    "result = soup.find('div', class_='list_text')\n",
    "news_title = result.find('div', class_='content_title').text\n",
    "news_para = result.find(\"div\", class_=\"article_teaser_body\").text\n",
    "print(news_title)\n",
    "print(news_para)"
   ]
  },
  {
   "cell_type": "markdown",
   "metadata": {},
   "source": [
    "# JPL Mars Space Images"
   ]
  },
  {
   "cell_type": "code",
   "execution_count": 6,
   "metadata": {},
   "outputs": [
    {
     "name": "stdout",
     "output_type": "stream",
     "text": [
      "https://www.jpl.nasa.gov/spaceimages/images/wallpaper/PIA17448-1920x1200.jpg\n"
     ]
    }
   ],
   "source": [
    "# URL of page to be scraped\n",
    "url1 = 'https://www.jpl.nasa.gov/spaceimages/?search=&category=Mars'\n",
    "\n",
    "# Open webpage\n",
    "browser.visit(url1)\n",
    "\n",
    "# Retrieve HTML webpage source\n",
    "html1 = browser.html\n",
    "\n",
    "# Parse HTML webpage source using BeautifulSoup\n",
    "soup1 = BeautifulSoup(html1, 'html.parser')\n",
    "\n",
    "# Scrape the Featured Image URL\n",
    "divs = soup1.find('div', class_='carousel_items')\n",
    "article = divs.find('article', class_='carousel_item')\n",
    "featured_img = article['style'].split(\"url('\")[1].split(\"');\")[0]\n",
    "featured_image_url = f'https://www.jpl.nasa.gov{featured_img}'\n",
    "print(featured_image_url)"
   ]
  },
  {
   "cell_type": "code",
   "execution_count": null,
   "metadata": {},
   "outputs": [],
   "source": []
  }
 ],
 "metadata": {
  "kernelspec": {
   "display_name": "Python 3",
   "language": "python",
   "name": "python3"
  },
  "language_info": {
   "codemirror_mode": {
    "name": "ipython",
    "version": 3
   },
   "file_extension": ".py",
   "mimetype": "text/x-python",
   "name": "python",
   "nbconvert_exporter": "python",
   "pygments_lexer": "ipython3",
   "version": "3.8.3"
  }
 },
 "nbformat": 4,
 "nbformat_minor": 4
}
